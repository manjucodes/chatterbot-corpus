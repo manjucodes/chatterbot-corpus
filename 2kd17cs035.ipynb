{
  "nbformat": 4,
  "nbformat_minor": 0,
  "metadata": {
    "colab": {
      "name": "2kd17cs035",
      "provenance": [],
      "collapsed_sections": [],
      "authorship_tag": "ABX9TyOf68KFiHP5Ewe3a8zXa4NT",
      "include_colab_link": true
    },
    "kernelspec": {
      "name": "python3",
      "display_name": "Python 3"
    }
  },
  "cells": [
    {
      "cell_type": "markdown",
      "metadata": {
        "id": "view-in-github",
        "colab_type": "text"
      },
      "source": [
        "<a href=\"https://colab.research.google.com/github/manjucodes/chatterbot-corpus/blob/master/2kd17cs035.ipynb\" target=\"_parent\"><img src=\"https://colab.research.google.com/assets/colab-badge.svg\" alt=\"Open In Colab\"/></a>"
      ]
    },
    {
      "cell_type": "code",
      "metadata": {
        "id": "y11QwTmzn1BL",
        "colab": {
          "base_uri": "https://localhost:8080/"
        },
        "outputId": "5a2cbef4-e88d-434f-c1dc-e0c49b0ac49f"
      },
      "source": [
        "import numpy as np \n",
        "X = np.array(([2, 9], [1, 5], [3, 6]), dtype=float) \n",
        "y = np.array(([92], [86], [89]), dtype=float) \n",
        "X = X/np.amax(X,axis=0) \n",
        "y = y/100 \n",
        "\n",
        "def sigmoid (x):\n",
        "    return 1/(1 + np.exp(-x)) \n",
        "def derivatives_sigmoid(x):\n",
        "     return x * (1 - x)  \n",
        "    \n",
        "epoch=7000 \n",
        "lr=0.1 \n",
        "inputlayer_neurons = 2 \n",
        "hiddenlayer_neurons = 3\n",
        "output_neurons = 1\n",
        "wh=np.random.uniform(size=(inputlayer_neurons,hiddenlayer_neurons))\n",
        "bh=np.random.uniform(size=(1,hiddenlayer_neurons))\n",
        "wout=np.random.uniform(size=(hiddenlayer_neurons,output_neurons))\n",
        "bout=np.random.uniform(size=(1,output_neurons))\n",
        "\n",
        "for i in range(epoch): \n",
        "\n",
        "\n",
        "     hinp1=np.dot(X,wh)\n",
        "     hinp=hinp1 + bh \n",
        "     hlayer_act = sigmoid(hinp)\n",
        "     outinp1=np.dot(hlayer_act,wout)\n",
        "     outinp= outinp1+ bout\n",
        "     output = sigmoid(outinp)\n",
        "\n",
        "     EO = y-output \n",
        "     outgrad = derivatives_sigmoid(output) \n",
        "     d_output = EO* outgrad \n",
        "     EH = d_output.dot(wout.T) \n",
        "     hiddengrad = derivatives_sigmoid(hlayer_act)\n",
        "     d_hiddenlayer = EH * hiddengrad \n",
        "     wout += hlayer_act.T.dot(d_output) *lr\n",
        "     bout += np.sum(d_output, axis=0,keepdims=True) *lr \n",
        "     wh += X.T.dot(d_hiddenlayer) *lr \n",
        "print(\"Input: \\n\" + str(X)) \n",
        "print(\"Actual Output: \\n\" + str(y))\n",
        "print(\"Predicted Output: \\n\" ,output) \n",
        " \n",
        "  "
      ],
      "execution_count": null,
      "outputs": [
        {
          "output_type": "stream",
          "text": [
            "Input: \n",
            "[[0.66666667 1.        ]\n",
            " [0.33333333 0.55555556]\n",
            " [1.         0.66666667]]\n",
            "Actual Output: \n",
            "[[0.92]\n",
            " [0.86]\n",
            " [0.89]]\n",
            "Predicted Output: \n",
            " [[0.89349641]\n",
            " [0.88068101]\n",
            " [0.89515904]]\n"
          ],
          "name": "stdout"
        }
      ]
    }
  ]
}