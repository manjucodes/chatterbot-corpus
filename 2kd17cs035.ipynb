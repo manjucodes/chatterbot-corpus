{
  "nbformat": 4,
  "nbformat_minor": 0,
  "metadata": {
    "colab": {
      "name": "2kd17cs035",
      "provenance": [],
      "collapsed_sections": [],
      "authorship_tag": "ABX9TyPmaJT0dzY5i/jvCqWp+HBS",
      "include_colab_link": true
    },
    "kernelspec": {
      "name": "python3",
      "display_name": "Python 3"
    }
  },
  "cells": [
    {
      "cell_type": "markdown",
      "metadata": {
        "id": "view-in-github",
        "colab_type": "text"
      },
      "source": [
        "<a href=\"https://colab.research.google.com/github/manjucodes/chatterbot-corpus/blob/master/2kd17cs035.ipynb\" target=\"_parent\"><img src=\"https://colab.research.google.com/assets/colab-badge.svg\" alt=\"Open In Colab\"/></a>"
      ]
    },
    {
      "cell_type": "code",
      "metadata": {
        "id": "pUS4TeaCNbQx",
        "colab": {
          "base_uri": "https://localhost:8080/",
          "height": 275
        },
        "outputId": "37a96feb-c610-4bb9-e0b6-d1b27c9ebbc4"
      },
      "source": [
        "import numpy as np \n",
        "import pandas as pd \n",
        "\n",
        "data = pd.DataFrame(data=pd.read_csv('/content/enjoysport.csv - enjoysport.csv (1).csv')) \n",
        "concepts = np.array(data.iloc[:,0:-1]) \n",
        "target = np.array(data.iloc[:,-1]) \n",
        "def learn(concepts, target):\n",
        "   specific_h = concepts[0].copy()\n",
        "   print(\"initialization of specific_h and general_h\")   \n",
        "   print(specific_h) \n",
        "   general_h = [[\"?\" for i in range(len(specific_h))] for i in range(len(specific_h))] \n",
        "   print(general_h) \n",
        "   for i, h in enumerate(concepts):\n",
        "       if target[i] == 1:\n",
        "           for x in range(len(specific_h)):\n",
        "              if h[x] != specific_h[x]:\n",
        "                 specific_h[x] = '?'\n",
        "                 general_h[x][x] = '?'      \n",
        "       if target[i] == 0:\n",
        "           for x in range(len(specific_h)):\n",
        "               if h[x] != specific_h[x]:\n",
        "                  general_h[x][x] = specific_h[x]    \n",
        "               else:\n",
        "                   general_h[x][x] = '?'  \n",
        "\n",
        "\n",
        "\n",
        "   print(\" steps of Candidate Elimination Algorithm\",i+1) \n",
        "   print(\"Specific_h \",i+1,\"\\n \") \n",
        "   print(specific_h) \n",
        "   print(\"general_h \", i+1, \"\\n \") \n",
        "   print(general_h) \n",
        "   indices = [i for i, val in enumerate(general_h) if val == ['?', '?', '?', '?', '?', '?']] \n",
        "   for i in indices:\n",
        "          general_h.remove(['?', '?', '?', '?', '?', '?'])  \n",
        "   return specific_h, general_h \n",
        "\n",
        "\n",
        "s_final, g_final = learn(concepts, target)\n",
        "print(\"Final Specific_h:\", s_final, sep=\"\\n\")\n",
        "print(\"Final General_h:\", g_final, sep=\"\\n\") \n",
        "\n",
        "\n",
        "\n",
        "\n",
        "\n"
      ],
      "execution_count": null,
      "outputs": [
        {
          "output_type": "stream",
          "text": [
            "initialization of specific_h and general_h\n",
            "['sunny' 'warm' 'high' 'strong' 'warm' 'same']\n",
            "[['?', '?', '?', '?', '?', '?'], ['?', '?', '?', '?', '?', '?'], ['?', '?', '?', '?', '?', '?'], ['?', '?', '?', '?', '?', '?'], ['?', '?', '?', '?', '?', '?'], ['?', '?', '?', '?', '?', '?']]\n",
            " steps of Candidate Elimination Algorithm 3\n",
            "Specific_h  3 \n",
            " \n",
            "['sunny' 'warm' 'high' 'strong' '?' '?']\n",
            "general_h  3 \n",
            " \n",
            "[['sunny', '?', '?', '?', '?', '?'], ['?', 'warm', '?', '?', '?', '?'], ['?', '?', '?', '?', '?', '?'], ['?', '?', '?', '?', '?', '?'], ['?', '?', '?', '?', '?', '?'], ['?', '?', '?', '?', '?', '?']]\n",
            "Final Specific_h:\n",
            "['sunny' 'warm' 'high' 'strong' '?' '?']\n",
            "Final General_h:\n",
            "[['sunny', '?', '?', '?', '?', '?'], ['?', 'warm', '?', '?', '?', '?']]\n"
          ],
          "name": "stdout"
        }
      ]
    }
  ]
}